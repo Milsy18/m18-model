{
  "nbformat": 4,
  "nbformat_minor": 0,
  "metadata": {
    "colab": {
      "provenance": [],
      "authorship_tag": "ABX9TyPEFCBhSOl1ybICRPqRa6yN",
      "include_colab_link": true
    },
    "kernelspec": {
      "name": "python3",
      "display_name": "Python 3"
    },
    "language_info": {
      "name": "python"
    }
  },
  "cells": [
    {
      "cell_type": "markdown",
      "metadata": {
        "id": "view-in-github",
        "colab_type": "text"
      },
      "source": [
        "<a href=\"https://colab.research.google.com/github/Milsy18/m18-model/blob/main/00_repo_setup.ipynb\" target=\"_parent\"><img src=\"https://colab.research.google.com/assets/colab-badge.svg\" alt=\"Open In Colab\"/></a>"
      ]
    },
    {
      "cell_type": "code",
      "source": [
        "%%bash\n",
        "# 1) Remove any stale copy & clone the empty repo\n",
        "rm -rf /content/m18-model2\n",
        "git clone https://github.com/Milsy18/m18-model2.git /content/m18-model2\n",
        "\n",
        "# 2) Enter the project folder\n",
        "cd /content/m18-model2\n",
        "\n",
        "# 3) Configure Git (once per session)\n",
        "git config --global user.name \"Milsyl8\"\n",
        "git config --global user.email \"millarmike1@gmail.com\"\n",
        "\n",
        "echo \"✅ Cloned m18-model2 into $(pwd) and Git identity configured.\"\n"
      ],
      "metadata": {
        "colab": {
          "base_uri": "https://localhost:8080/"
        },
        "id": "9u2rNw75rbds",
        "outputId": "5fa0638f-d14c-4d6b-fcf1-327e528a3db3"
      },
      "execution_count": 1,
      "outputs": [
        {
          "output_type": "stream",
          "name": "stdout",
          "text": [
            "✅ Cloned m18-model2 into /content/m18-model2 and Git identity configured.\n"
          ]
        },
        {
          "output_type": "stream",
          "name": "stderr",
          "text": [
            "Cloning into '/content/m18-model2'...\n",
            "warning: You appear to have cloned an empty repository.\n"
          ]
        }
      ]
    }
  ]
}